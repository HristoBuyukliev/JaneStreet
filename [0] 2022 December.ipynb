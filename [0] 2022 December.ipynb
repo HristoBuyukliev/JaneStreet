{
 "cells": [
  {
   "cell_type": "code",
   "execution_count": 27,
   "id": "78cb4a76",
   "metadata": {},
   "outputs": [],
   "source": [
    "from typing import Tuple\n",
    "from copy import deepcopy"
   ]
  },
  {
   "cell_type": "markdown",
   "id": "b4121991",
   "metadata": {},
   "source": [
    "A six-sided die, with numbers written on each of its faces, is placed on the 6-by-6 grid above, in the lower-left (yellow) corner. It then makes a sequence of “moves”. Each move consists of tipping the die into an orthogonally adjacent square within the grid.\n",
    "\n",
    "The die starts with a “score” of 0. On the Nth move, its score increases by N times the value of the die facing up after the move. However, the die is only allowed to move into a square if its score after the move matches the value in the square. Also, the die cannot be translated or rotated in place in addition to these moves.\n",
    "\n",
    "After some number of moves the die arrives in the upper-right (blue) corner.\n",
    "\n",
    "The answer to this puzzle is the sum of values in the unvisited squares from the die’s journey."
   ]
  },
  {
   "cell_type": "code",
   "execution_count": 46,
   "id": "e5495272",
   "metadata": {},
   "outputs": [],
   "source": [
    "grid = [[0, 77, 32, 403, 337, 452],\n",
    "        [5, 23, -4, 592, 445, 620],\n",
    "        [-7, 2, 357, 452, 317, 395],\n",
    "        [186, 42, 195, 704, 452, 228], \n",
    "        [81, 123, 240, 443, 353, 508],\n",
    "        [57, 33, 132, 268, 492, 732]]\n",
    "\n",
    "initial_state = {'x': 0, \n",
    "                 'y': 0, \n",
    "                 'moves_made': 0, \n",
    "                 'orientation': (1,2,3), \n",
    "                 'revealed_sides': {}, \n",
    "                 'trajectory': [(0,0)]}"
   ]
  },
  {
   "cell_type": "code",
   "execution_count": 104,
   "id": "fe8f7d48",
   "metadata": {},
   "outputs": [],
   "source": [
    "def roll(die_orientation: Tuple[int, int, int], direction: Tuple[int, int]) -> Tuple[int, int, int]:\n",
    "    ''' \n",
    "    Given an initial die orientation + direction, return new die orientation. \n",
    "    Die orientation is defined as side on top, side on right, side on front.\n",
    "    direction is one of {1, 2, 3, 4}\n",
    "    '''\n",
    "    top, right, front = die_orientation\n",
    "    assert direction in [(0, 1), (0, -1), (1, 0), (-1, 0)]\n",
    "    ## roll forward:\n",
    "    if direction == (1, 0): \n",
    "        return 7 - front, right, top\n",
    "    ## roll back:\n",
    "    if direction == (-1, 0):\n",
    "        return front, right, 7 - top\n",
    "    ## roll right\n",
    "    if direction == (0, 1):\n",
    "        return 7 - right, top, front\n",
    "    ## roll left\n",
    "    if direction == (0, -1):\n",
    "        return right, 7 - top, front"
   ]
  },
  {
   "cell_type": "code",
   "execution_count": 112,
   "id": "aa44201e",
   "metadata": {},
   "outputs": [],
   "source": [
    "def is_final(state):\n",
    "    return (state['x'], state['y']) == (5,5)\n",
    "\n",
    "def possible_moves(state):\n",
    "    moves = [(0, 1), (0, -1), (1, 0), (-1, 0)]\n",
    "    # make sure we stay in grid:\n",
    "    if state['x'] == 0: moves = [m for m in moves if m[0] != -1]\n",
    "    if state['x'] == 5: moves = [m for m in moves if m[0] != 1]\n",
    "    if state['y'] == 0: moves = [m for m in moves if m[1] != -1]\n",
    "    if state['y'] == 5: moves = [m for m in moves if m[1] != 1]\n",
    "    return moves\n",
    "\n",
    "def transition(state, direction):\n",
    "    '''\n",
    "    roll on direction. Returns bool \"success\" and new state\n",
    "    ''' \n",
    "    top, right, front = roll(state['orientation'], direction)\n",
    "    new_x = state['x'] + direction[0]\n",
    "    new_y = state['y'] + direction[1]\n",
    "    nth_move = state['moves_made'] + 1\n",
    "    new_state = deepcopy(state)\n",
    "    new_state['orientation'] = (top, right, front)\n",
    "    new_state['x'] = new_x\n",
    "    new_state['y'] = new_y\n",
    "    new_state['moves_made'] = nth_move\n",
    "    new_state['trajectory'] = [(new_x, new_y)] + new_state['trajectory']\n",
    "    diff_score = grid[new_x][new_y] - grid[state['x']][state['y']]\n",
    "    if top in new_state['revealed_sides']:\n",
    "        if new_state['revealed_sides'][top] * nth_move == diff_score:\n",
    "            success = True\n",
    "        else:\n",
    "            success = False\n",
    "    else:\n",
    "        if diff_score % nth_move == 0:\n",
    "            assert float.is_integer(diff_score / nth_move), new_state\n",
    "            new_state['revealed_sides'][top] = int(diff_score / nth_move)\n",
    "            success = True\n",
    "        else:\n",
    "            success = False\n",
    "    return new_state, success"
   ]
  },
  {
   "cell_type": "code",
   "execution_count": 119,
   "id": "28e63f1d",
   "metadata": {},
   "outputs": [
    {
     "name": "stdout",
     "output_type": "stream",
     "text": [
      "We have 2 trajectories so far\n",
      "    {'x': 0, 'y': 1, 'moves_made': 1, 'orientation': (5, 1, 3), 'revealed_sides': {5: 77}, 'trajectory': [(0, 1), (0, 0)]}\n",
      "    {'x': 1, 'y': 0, 'moves_made': 1, 'orientation': (4, 2, 1), 'revealed_sides': {4: 5}, 'trajectory': [(1, 0), (0, 0)]}\n",
      "We have 3 trajectories so far\n",
      "    {'x': 1, 'y': 1, 'moves_made': 2, 'orientation': (4, 1, 5), 'revealed_sides': {5: 77, 4: -27}, 'trajectory': [(1, 1), (0, 1), (0, 0)]}\n",
      "    {'x': 1, 'y': 1, 'moves_made': 2, 'orientation': (5, 4, 1), 'revealed_sides': {4: 5, 5: 9}, 'trajectory': [(1, 1), (1, 0), (0, 0)]}\n",
      "    {'x': 2, 'y': 0, 'moves_made': 2, 'orientation': (6, 2, 4), 'revealed_sides': {4: 5, 6: -6}, 'trajectory': [(2, 0), (1, 0), (0, 0)]}\n",
      "We have 7 trajectories so far\n",
      "    {'x': 1, 'y': 2, 'moves_made': 3, 'orientation': (6, 4, 5), 'revealed_sides': {5: 77, 4: -27, 6: -9}, 'trajectory': [(1, 2), (1, 1), (0, 1), (0, 0)]}\n",
      "    {'x': 1, 'y': 0, 'moves_made': 3, 'orientation': (1, 3, 5), 'revealed_sides': {5: 77, 4: -27, 1: -6}, 'trajectory': [(1, 0), (1, 1), (0, 1), (0, 0)]}\n",
      "    {'x': 2, 'y': 1, 'moves_made': 3, 'orientation': (2, 1, 4), 'revealed_sides': {5: 77, 4: -27, 2: -7}, 'trajectory': [(2, 1), (1, 1), (0, 1), (0, 0)]}\n",
      "    {'x': 1, 'y': 2, 'moves_made': 3, 'orientation': (3, 5, 1), 'revealed_sides': {4: 5, 5: 9, 3: -9}, 'trajectory': [(1, 2), (1, 1), (1, 0), (0, 0)]}\n",
      "    {'x': 2, 'y': 1, 'moves_made': 3, 'orientation': (6, 4, 5), 'revealed_sides': {4: 5, 5: 9, 6: -7}, 'trajectory': [(2, 1), (1, 1), (1, 0), (0, 0)]}\n",
      "    {'x': 0, 'y': 1, 'moves_made': 3, 'orientation': (1, 4, 2), 'revealed_sides': {4: 5, 5: 9, 1: 18}, 'trajectory': [(0, 1), (1, 1), (1, 0), (0, 0)]}\n",
      "    {'x': 2, 'y': 1, 'moves_made': 3, 'orientation': (5, 6, 4), 'revealed_sides': {4: 5, 6: -6, 5: 3}, 'trajectory': [(2, 1), (2, 0), (1, 0), (0, 0)]}\n",
      "We have 7 trajectories so far\n",
      "    {'x': 1, 'y': 3, 'moves_made': 4, 'orientation': (3, 6, 5), 'revealed_sides': {5: 77, 4: -27, 6: -9, 3: 149}, 'trajectory': [(1, 3), (1, 2), (1, 1), (0, 1), (0, 0)]}\n",
      "    {'x': 2, 'y': 0, 'moves_made': 4, 'orientation': (2, 3, 1), 'revealed_sides': {5: 77, 4: -27, 1: -6, 2: -3}, 'trajectory': [(2, 0), (1, 0), (1, 1), (0, 1), (0, 0)]}\n",
      "    {'x': 3, 'y': 1, 'moves_made': 4, 'orientation': (3, 1, 2), 'revealed_sides': {5: 77, 4: -27, 2: -7, 3: 10}, 'trajectory': [(3, 1), (2, 1), (1, 1), (0, 1), (0, 0)]}\n",
      "    {'x': 1, 'y': 3, 'moves_made': 4, 'orientation': (2, 3, 1), 'revealed_sides': {4: 5, 5: 9, 3: -9, 2: 149}, 'trajectory': [(1, 3), (1, 2), (1, 1), (1, 0), (0, 0)]}\n",
      "    {'x': 0, 'y': 2, 'moves_made': 4, 'orientation': (1, 5, 4), 'revealed_sides': {4: 5, 5: 9, 3: -9, 1: 9}, 'trajectory': [(0, 2), (1, 2), (1, 1), (1, 0), (0, 0)]}\n",
      "    {'x': 3, 'y': 1, 'moves_made': 4, 'orientation': (2, 4, 6), 'revealed_sides': {4: 5, 5: 9, 6: -7, 2: 10}, 'trajectory': [(3, 1), (2, 1), (1, 1), (1, 0), (0, 0)]}\n",
      "    {'x': 3, 'y': 1, 'moves_made': 4, 'orientation': (3, 6, 5), 'revealed_sides': {4: 5, 6: -6, 5: 3, 3: 10}, 'trajectory': [(3, 1), (2, 1), (2, 0), (1, 0), (0, 0)]}\n",
      "We have 3 trajectories so far\n",
      "    {'x': 2, 'y': 3, 'moves_made': 5, 'orientation': (2, 6, 3), 'revealed_sides': {5: 77, 4: -27, 6: -9, 3: 149, 2: -28}, 'trajectory': [(2, 3), (1, 3), (1, 2), (1, 1), (0, 1), (0, 0)]}\n",
      "    {'x': 2, 'y': 3, 'moves_made': 5, 'orientation': (6, 3, 2), 'revealed_sides': {4: 5, 5: 9, 3: -9, 2: 149, 6: -28}, 'trajectory': [(2, 3), (1, 3), (1, 2), (1, 1), (1, 0), (0, 0)]}\n",
      "    {'x': 0, 'y': 1, 'moves_made': 5, 'orientation': (5, 6, 4), 'revealed_sides': {4: 5, 5: 9, 3: -9, 1: 9}, 'trajectory': [(0, 1), (0, 2), (1, 2), (1, 1), (1, 0), (0, 0)]}\n",
      "We have 1 trajectories so far\n",
      "    {'x': 1, 'y': 1, 'moves_made': 6, 'orientation': (3, 6, 5), 'revealed_sides': {4: 5, 5: 9, 3: -9, 1: 9}, 'trajectory': [(1, 1), (0, 1), (0, 2), (1, 2), (1, 1), (1, 0), (0, 0)]}\n",
      "We have 1 trajectories so far\n",
      "    {'x': 2, 'y': 1, 'moves_made': 7, 'orientation': (2, 6, 3), 'revealed_sides': {4: 5, 5: 9, 3: -9, 1: 9, 2: -3}, 'trajectory': [(2, 1), (1, 1), (0, 1), (0, 2), (1, 2), (1, 1), (1, 0), (0, 0)]}\n",
      "We have 1 trajectories so far\n",
      "    {'x': 3, 'y': 1, 'moves_made': 8, 'orientation': (4, 6, 2), 'revealed_sides': {4: 5, 5: 9, 3: -9, 1: 9, 2: -3}, 'trajectory': [(3, 1), (2, 1), (1, 1), (0, 1), (0, 2), (1, 2), (1, 1), (1, 0), (0, 0)]}\n",
      "We have 2 trajectories so far\n",
      "    {'x': 3, 'y': 0, 'moves_made': 9, 'orientation': (6, 3, 2), 'revealed_sides': {4: 5, 5: 9, 3: -9, 1: 9, 2: -3, 6: 16}, 'trajectory': [(3, 0), (3, 1), (2, 1), (1, 1), (0, 1), (0, 2), (1, 2), (1, 1), (1, 0), (0, 0)]}\n",
      "    {'x': 4, 'y': 1, 'moves_made': 9, 'orientation': (5, 6, 4), 'revealed_sides': {4: 5, 5: 9, 3: -9, 1: 9, 2: -3}, 'trajectory': [(4, 1), (3, 1), (2, 1), (1, 1), (0, 1), (0, 2), (1, 2), (1, 1), (1, 0), (0, 0)]}\n",
      "We have 1 trajectories so far\n",
      "    {'x': 5, 'y': 1, 'moves_made': 10, 'orientation': (3, 6, 5), 'revealed_sides': {4: 5, 5: 9, 3: -9, 1: 9, 2: -3}, 'trajectory': [(5, 1), (4, 1), (3, 1), (2, 1), (1, 1), (0, 1), (0, 2), (1, 2), (1, 1), (1, 0), (0, 0)]}\n",
      "We have 1 trajectories so far\n",
      "    {'x': 5, 'y': 2, 'moves_made': 11, 'orientation': (1, 3, 5), 'revealed_sides': {4: 5, 5: 9, 3: -9, 1: 9, 2: -3}, 'trajectory': [(5, 2), (5, 1), (4, 1), (3, 1), (2, 1), (1, 1), (0, 1), (0, 2), (1, 2), (1, 1), (1, 0), (0, 0)]}\n",
      "We have 1 trajectories so far\n",
      "    {'x': 4, 'y': 2, 'moves_made': 12, 'orientation': (5, 3, 6), 'revealed_sides': {4: 5, 5: 9, 3: -9, 1: 9, 2: -3}, 'trajectory': [(4, 2), (5, 2), (5, 1), (4, 1), (3, 1), (2, 1), (1, 1), (0, 1), (0, 2), (1, 2), (1, 1), (1, 0), (0, 0)]}\n",
      "We have 1 trajectories so far\n",
      "    {'x': 4, 'y': 1, 'moves_made': 13, 'orientation': (3, 2, 6), 'revealed_sides': {4: 5, 5: 9, 3: -9, 1: 9, 2: -3}, 'trajectory': [(4, 1), (4, 2), (5, 2), (5, 1), (4, 1), (3, 1), (2, 1), (1, 1), (0, 1), (0, 2), (1, 2), (1, 1), (1, 0), (0, 0)]}\n",
      "We have 1 trajectories so far\n",
      "    {'x': 4, 'y': 0, 'moves_made': 14, 'orientation': (2, 4, 6), 'revealed_sides': {4: 5, 5: 9, 3: -9, 1: 9, 2: -3}, 'trajectory': [(4, 0), (4, 1), (4, 2), (5, 2), (5, 1), (4, 1), (3, 1), (2, 1), (1, 1), (0, 1), (0, 2), (1, 2), (1, 1), (1, 0), (0, 0)]}\n",
      "We have 1 trajectories so far\n",
      "    {'x': 3, 'y': 0, 'moves_made': 15, 'orientation': (6, 4, 5), 'revealed_sides': {4: 5, 5: 9, 3: -9, 1: 9, 2: -3, 6: 7}, 'trajectory': [(3, 0), (4, 0), (4, 1), (4, 2), (5, 2), (5, 1), (4, 1), (3, 1), (2, 1), (1, 1), (0, 1), (0, 2), (1, 2), (1, 1), (1, 0), (0, 0)]}\n",
      "We have 1 trajectories so far\n",
      "    {'x': 3, 'y': 1, 'moves_made': 16, 'orientation': (3, 6, 5), 'revealed_sides': {4: 5, 5: 9, 3: -9, 1: 9, 2: -3, 6: 7}, 'trajectory': [(3, 1), (3, 0), (4, 0), (4, 1), (4, 2), (5, 2), (5, 1), (4, 1), (3, 1), (2, 1), (1, 1), (0, 1), (0, 2), (1, 2), (1, 1), (1, 0), (0, 0)]}\n",
      "We have 1 trajectories so far\n",
      "    {'x': 3, 'y': 2, 'moves_made': 17, 'orientation': (1, 3, 5), 'revealed_sides': {4: 5, 5: 9, 3: -9, 1: 9, 2: -3, 6: 7}, 'trajectory': [(3, 2), (3, 1), (3, 0), (4, 0), (4, 1), (4, 2), (5, 2), (5, 1), (4, 1), (3, 1), (2, 1), (1, 1), (0, 1), (0, 2), (1, 2), (1, 1), (1, 0), (0, 0)]}\n",
      "We have 1 trajectories so far\n",
      "    {'x': 2, 'y': 2, 'moves_made': 18, 'orientation': (5, 3, 6), 'revealed_sides': {4: 5, 5: 9, 3: -9, 1: 9, 2: -3, 6: 7}, 'trajectory': [(2, 2), (3, 2), (3, 1), (3, 0), (4, 0), (4, 1), (4, 2), (5, 2), (5, 1), (4, 1), (3, 1), (2, 1), (1, 1), (0, 1), (0, 2), (1, 2), (1, 1), (1, 0), (0, 0)]}\n",
      "We have 1 trajectories so far\n",
      "    {'x': 2, 'y': 3, 'moves_made': 19, 'orientation': (4, 5, 6), 'revealed_sides': {4: 5, 5: 9, 3: -9, 1: 9, 2: -3, 6: 7}, 'trajectory': [(2, 3), (2, 2), (3, 2), (3, 1), (3, 0), (4, 0), (4, 1), (4, 2), (5, 2), (5, 1), (4, 1), (3, 1), (2, 1), (1, 1), (0, 1), (0, 2), (1, 2), (1, 1), (1, 0), (0, 0)]}\n",
      "We have 1 trajectories so far\n",
      "    {'x': 1, 'y': 3, 'moves_made': 20, 'orientation': (6, 5, 3), 'revealed_sides': {4: 5, 5: 9, 3: -9, 1: 9, 2: -3, 6: 7}, 'trajectory': [(1, 3), (2, 3), (2, 2), (3, 2), (3, 1), (3, 0), (4, 0), (4, 1), (4, 2), (5, 2), (5, 1), (4, 1), (3, 1), (2, 1), (1, 1), (0, 1), (0, 2), (1, 2), (1, 1), (1, 0), (0, 0)]}\n",
      "We have 1 trajectories so far\n",
      "    {'x': 0, 'y': 3, 'moves_made': 21, 'orientation': (3, 5, 1), 'revealed_sides': {4: 5, 5: 9, 3: -9, 1: 9, 2: -3, 6: 7}, 'trajectory': [(0, 3), (1, 3), (2, 3), (2, 2), (3, 2), (3, 1), (3, 0), (4, 0), (4, 1), (4, 2), (5, 2), (5, 1), (4, 1), (3, 1), (2, 1), (1, 1), (0, 1), (0, 2), (1, 2), (1, 1), (1, 0), (0, 0)]}\n",
      "We have 1 trajectories so far\n",
      "    {'x': 0, 'y': 4, 'moves_made': 22, 'orientation': (2, 3, 1), 'revealed_sides': {4: 5, 5: 9, 3: -9, 1: 9, 2: -3, 6: 7}, 'trajectory': [(0, 4), (0, 3), (1, 3), (2, 3), (2, 2), (3, 2), (3, 1), (3, 0), (4, 0), (4, 1), (4, 2), (5, 2), (5, 1), (4, 1), (3, 1), (2, 1), (1, 1), (0, 1), (0, 2), (1, 2), (1, 1), (1, 0), (0, 0)]}\n",
      "We have 1 trajectories so far\n",
      "    {'x': 0, 'y': 5, 'moves_made': 23, 'orientation': (4, 2, 1), 'revealed_sides': {4: 5, 5: 9, 3: -9, 1: 9, 2: -3, 6: 7}, 'trajectory': [(0, 5), (0, 4), (0, 3), (1, 3), (2, 3), (2, 2), (3, 2), (3, 1), (3, 0), (4, 0), (4, 1), (4, 2), (5, 2), (5, 1), (4, 1), (3, 1), (2, 1), (1, 1), (0, 1), (0, 2), (1, 2), (1, 1), (1, 0), (0, 0)]}\n",
      "We have 1 trajectories so far\n",
      "    {'x': 1, 'y': 5, 'moves_made': 24, 'orientation': (6, 2, 4), 'revealed_sides': {4: 5, 5: 9, 3: -9, 1: 9, 2: -3, 6: 7}, 'trajectory': [(1, 5), (0, 5), (0, 4), (0, 3), (1, 3), (2, 3), (2, 2), (3, 2), (3, 1), (3, 0), (4, 0), (4, 1), (4, 2), (5, 2), (5, 1), (4, 1), (3, 1), (2, 1), (1, 1), (0, 1), (0, 2), (1, 2), (1, 1), (1, 0), (0, 0)]}\n",
      "We have 1 trajectories so far\n",
      "    {'x': 2, 'y': 5, 'moves_made': 25, 'orientation': (3, 2, 6), 'revealed_sides': {4: 5, 5: 9, 3: -9, 1: 9, 2: -3, 6: 7}, 'trajectory': [(2, 5), (1, 5), (0, 5), (0, 4), (0, 3), (1, 3), (2, 3), (2, 2), (3, 2), (3, 1), (3, 0), (4, 0), (4, 1), (4, 2), (5, 2), (5, 1), (4, 1), (3, 1), (2, 1), (1, 1), (0, 1), (0, 2), (1, 2), (1, 1), (1, 0), (0, 0)]}\n",
      "We have 1 trajectories so far\n",
      "    {'x': 2, 'y': 4, 'moves_made': 26, 'orientation': (2, 4, 6), 'revealed_sides': {4: 5, 5: 9, 3: -9, 1: 9, 2: -3, 6: 7}, 'trajectory': [(2, 4), (2, 5), (1, 5), (0, 5), (0, 4), (0, 3), (1, 3), (2, 3), (2, 2), (3, 2), (3, 1), (3, 0), (4, 0), (4, 1), (4, 2), (5, 2), (5, 1), (4, 1), (3, 1), (2, 1), (1, 1), (0, 1), (0, 2), (1, 2), (1, 1), (1, 0), (0, 0)]}\n",
      "We have 1 trajectories so far\n",
      "    {'x': 2, 'y': 3, 'moves_made': 27, 'orientation': (4, 5, 6), 'revealed_sides': {4: 5, 5: 9, 3: -9, 1: 9, 2: -3, 6: 7}, 'trajectory': [(2, 3), (2, 4), (2, 5), (1, 5), (0, 5), (0, 4), (0, 3), (1, 3), (2, 3), (2, 2), (3, 2), (3, 1), (3, 0), (4, 0), (4, 1), (4, 2), (5, 2), (5, 1), (4, 1), (3, 1), (2, 1), (1, 1), (0, 1), (0, 2), (1, 2), (1, 1), (1, 0), (0, 0)]}\n",
      "We have 1 trajectories so far\n",
      "    {'x': 3, 'y': 3, 'moves_made': 28, 'orientation': (1, 5, 4), 'revealed_sides': {4: 5, 5: 9, 3: -9, 1: 9, 2: -3, 6: 7}, 'trajectory': [(3, 3), (2, 3), (2, 4), (2, 5), (1, 5), (0, 5), (0, 4), (0, 3), (1, 3), (2, 3), (2, 2), (3, 2), (3, 1), (3, 0), (4, 0), (4, 1), (4, 2), (5, 2), (5, 1), (4, 1), (3, 1), (2, 1), (1, 1), (0, 1), (0, 2), (1, 2), (1, 1), (1, 0), (0, 0)]}\n",
      "We have 1 trajectories so far\n",
      "    {'x': 4, 'y': 3, 'moves_made': 29, 'orientation': (3, 5, 1), 'revealed_sides': {4: 5, 5: 9, 3: -9, 1: 9, 2: -3, 6: 7}, 'trajectory': [(4, 3), (3, 3), (2, 3), (2, 4), (2, 5), (1, 5), (0, 5), (0, 4), (0, 3), (1, 3), (2, 3), (2, 2), (3, 2), (3, 1), (3, 0), (4, 0), (4, 1), (4, 2), (5, 2), (5, 1), (4, 1), (3, 1), (2, 1), (1, 1), (0, 1), (0, 2), (1, 2), (1, 1), (1, 0), (0, 0)]}\n",
      "We have 1 trajectories so far\n",
      "    {'x': 4, 'y': 4, 'moves_made': 30, 'orientation': (2, 3, 1), 'revealed_sides': {4: 5, 5: 9, 3: -9, 1: 9, 2: -3, 6: 7}, 'trajectory': [(4, 4), (4, 3), (3, 3), (2, 3), (2, 4), (2, 5), (1, 5), (0, 5), (0, 4), (0, 3), (1, 3), (2, 3), (2, 2), (3, 2), (3, 1), (3, 0), (4, 0), (4, 1), (4, 2), (5, 2), (5, 1), (4, 1), (3, 1), (2, 1), (1, 1), (0, 1), (0, 2), (1, 2), (1, 1), (1, 0), (0, 0)]}\n",
      "We have 1 trajectories so far\n",
      "    {'x': 4, 'y': 5, 'moves_made': 31, 'orientation': (4, 2, 1), 'revealed_sides': {4: 5, 5: 9, 3: -9, 1: 9, 2: -3, 6: 7}, 'trajectory': [(4, 5), (4, 4), (4, 3), (3, 3), (2, 3), (2, 4), (2, 5), (1, 5), (0, 5), (0, 4), (0, 3), (1, 3), (2, 3), (2, 2), (3, 2), (3, 1), (3, 0), (4, 0), (4, 1), (4, 2), (5, 2), (5, 1), (4, 1), (3, 1), (2, 1), (1, 1), (0, 1), (0, 2), (1, 2), (1, 1), (1, 0), (0, 0)]}\n",
      "TADAA\n",
      "We have 1 trajectories so far\n",
      "    {'x': 5, 'y': 5, 'moves_made': 32, 'orientation': (6, 2, 4), 'revealed_sides': {4: 5, 5: 9, 3: -9, 1: 9, 2: -3, 6: 7}, 'trajectory': [(5, 5), (4, 5), (4, 4), (4, 3), (3, 3), (2, 3), (2, 4), (2, 5), (1, 5), (0, 5), (0, 4), (0, 3), (1, 3), (2, 3), (2, 2), (3, 2), (3, 1), (3, 0), (4, 0), (4, 1), (4, 2), (5, 2), (5, 1), (4, 1), (3, 1), (2, 1), (1, 1), (0, 1), (0, 2), (1, 2), (1, 1), (1, 0), (0, 0)]}\n",
      "{'x': 4, 'y': 5, 'moves_made': 31, 'orientation': (4, 2, 1), 'revealed_sides': {4: 5, 5: 9, 3: -9, 1: 9, 2: -3, 6: 7}, 'trajectory': [(4, 5), (4, 4), (4, 3), (3, 3), (2, 3), (2, 4), (2, 5), (1, 5), (0, 5), (0, 4), (0, 3), (1, 3), (2, 3), (2, 2), (3, 2), (3, 1), (3, 0), (4, 0), (4, 1), (4, 2), (5, 2), (5, 1), (4, 1), (3, 1), (2, 1), (1, 1), (0, 1), (0, 2), (1, 2), (1, 1), (1, 0), (0, 0)]}\n"
     ]
    }
   ],
   "source": [
    "reached_states = [initial_state]\n",
    "reached_final_tile = False\n",
    "while True:\n",
    "    new_reached_states = []\n",
    "    for state in reached_states:\n",
    "#         print(f'We have the following possible moves: {possible_moves(state)}')\n",
    "        for direction in possible_moves(state):\n",
    "            new_state, success = transition(state, direction)\n",
    "#             print(f'tried out new state, with {success} success:')\n",
    "#             print(new_state)\n",
    "            if success:\n",
    "                if is_final(new_state):\n",
    "                    final_state = state\n",
    "                    reached_final_tile = True\n",
    "                    print('TADAA')\n",
    "                new_reached_states.append(new_state)\n",
    "    reached_states = new_reached_states\n",
    "    print(f'We have {len(reached_states)} trajectories so far')\n",
    "    for state in reached_states:\n",
    "        print(f'    {state}')\n",
    "    if reached_final_tile or len(reached_states) == 0:\n",
    "        break\n",
    "print(final_state)"
   ]
  },
  {
   "cell_type": "code",
   "execution_count": 144,
   "id": "0a49e6e5",
   "metadata": {},
   "outputs": [],
   "source": [
    "all_tiles = set([(a,b) for a in range(6) for b in range(6)])\n",
    "trajectory_tiles = set(final_state['trajectory'])\n",
    "unused_tiles = all_tiles - trajectory_tiles"
   ]
  },
  {
   "cell_type": "code",
   "execution_count": 141,
   "id": "892fe166",
   "metadata": {},
   "outputs": [],
   "source": [
    "all_tiles = set([(a,b) for a in range(5) for b in range(5)])"
   ]
  },
  {
   "cell_type": "code",
   "execution_count": 146,
   "id": "a03c2115",
   "metadata": {},
   "outputs": [
    {
     "data": {
      "text/plain": [
       "{(1, 4), (2, 0), (3, 4), (3, 5), (5, 0), (5, 3), (5, 4), (5, 5)}"
      ]
     },
     "execution_count": 146,
     "metadata": {},
     "output_type": "execute_result"
    }
   ],
   "source": [
    "unused_tiles"
   ]
  },
  {
   "cell_type": "code",
   "execution_count": 147,
   "id": "cb3daf99",
   "metadata": {},
   "outputs": [
    {
     "data": {
      "text/plain": [
       "1935"
      ]
     },
     "execution_count": 147,
     "metadata": {},
     "output_type": "execute_result"
    }
   ],
   "source": [
    "sum([grid[tile[0]][tile[1]] for tile in unused_tiles if tile != (5,5)])"
   ]
  },
  {
   "cell_type": "code",
   "execution_count": 134,
   "id": "77338274",
   "metadata": {},
   "outputs": [
    {
     "name": "stdout",
     "output_type": "stream",
     "text": [
      "for step 0, we went to tile (0, 0) with value 0 and diff 0\n",
      "for step 1, we went to tile (1, 0) with value 5 and diff 5\n",
      "for step 2, we went to tile (1, 1) with value 23 and diff 18\n",
      "for step 3, we went to tile (1, 2) with value -4 and diff -27\n",
      "for step 4, we went to tile (0, 2) with value 32 and diff 36\n",
      "for step 5, we went to tile (0, 1) with value 77 and diff 45\n",
      "for step 6, we went to tile (1, 1) with value 23 and diff -54\n",
      "for step 7, we went to tile (2, 1) with value 2 and diff -21\n",
      "for step 8, we went to tile (3, 1) with value 42 and diff 40\n",
      "for step 9, we went to tile (4, 1) with value 123 and diff 81\n",
      "for step 10, we went to tile (5, 1) with value 33 and diff -90\n",
      "for step 11, we went to tile (5, 2) with value 132 and diff 99\n",
      "for step 12, we went to tile (4, 2) with value 240 and diff 108\n",
      "for step 13, we went to tile (4, 1) with value 123 and diff -117\n",
      "for step 14, we went to tile (4, 0) with value 81 and diff -42\n",
      "for step 15, we went to tile (3, 0) with value 186 and diff 105\n",
      "for step 16, we went to tile (3, 1) with value 42 and diff -144\n",
      "for step 17, we went to tile (3, 2) with value 195 and diff 153\n",
      "for step 18, we went to tile (2, 2) with value 357 and diff 162\n",
      "for step 19, we went to tile (2, 3) with value 452 and diff 95\n",
      "for step 20, we went to tile (1, 3) with value 592 and diff 140\n",
      "for step 21, we went to tile (0, 3) with value 403 and diff -189\n",
      "for step 22, we went to tile (0, 4) with value 337 and diff -66\n",
      "for step 23, we went to tile (0, 5) with value 452 and diff 115\n",
      "for step 24, we went to tile (1, 5) with value 620 and diff 168\n",
      "for step 25, we went to tile (2, 5) with value 395 and diff -225\n",
      "for step 26, we went to tile (2, 4) with value 317 and diff -78\n",
      "for step 27, we went to tile (2, 3) with value 452 and diff 135\n",
      "for step 28, we went to tile (3, 3) with value 704 and diff 252\n",
      "for step 29, we went to tile (4, 3) with value 443 and diff -261\n",
      "for step 30, we went to tile (4, 4) with value 353 and diff -90\n",
      "for step 31, we went to tile (4, 5) with value 508 and diff 155\n"
     ]
    }
   ],
   "source": [
    "prev_value = 0\n",
    "for step, tile in enumerate(final_state['trajectory'][::-1]):\n",
    "    new_value = grid[tile[0]][tile[1]]\n",
    "    print(f'for step {step}, we went to tile {tile} with value {new_value} and diff {new_value - prev_value}')\n",
    "    prev_value = new_value"
   ]
  }
 ],
 "metadata": {
  "kernelspec": {
   "display_name": "Python 3 (ipykernel)",
   "language": "python",
   "name": "python3"
  },
  "language_info": {
   "codemirror_mode": {
    "name": "ipython",
    "version": 3
   },
   "file_extension": ".py",
   "mimetype": "text/x-python",
   "name": "python",
   "nbconvert_exporter": "python",
   "pygments_lexer": "ipython3",
   "version": "3.9.13"
  }
 },
 "nbformat": 4,
 "nbformat_minor": 5
}
