{
 "cells": [
  {
   "cell_type": "markdown",
   "id": "e6439378",
   "metadata": {},
   "source": [
    "\n",
    "    Early stage of an animal\n",
    "    Early stage of a plant\n",
    "    Creepy\n",
    "    Reviled image that might fire up a crowd?\n",
    "    In minesweeper, it means you’re surrounded\n",
    "    Spiced brew\n",
    "    Tapper on CNN\n",
    "    Iron or Bronze\n",
    "    Iron but not bronze\n",
    "    Boy on “The Andy Griffith Show”\n",
    "    Signal\n",
    "    Suspect, once apprehended\n",
    "    “__ got mail”\n",
    "    Raise the stakes yet again, in backgammon\n",
    "    First mammal to be cloned\n",
    "    Outer: prefix\n",
    "    With consideration\n"
   ]
  },
  {
   "cell_type": "markdown",
   "id": "22487c5b",
   "metadata": {},
   "source": [
    "Early stage of an animal - fetus\n",
    "Early stage of a plant - seed\n",
    "Creepy - eerie\n",
    "Reviled image that might fire up a crowd? - witch/Frankenstein\n",
    "\n",
    "minesweeper - eight\n",
    "Spiced brew\n",
    "Tapper on CNN - anchor/jake/\"the lead\"\n",
    "Iron or Bronze - ron\n",
    "Iron but not bronze - i, magnet?, ferrous?\n",
    "Boy on “The Andy Griffith Show” - opie\n",
    "Signal\n",
    "Suspect, once apprehended - arrest\n",
    "“__ got mail” - you've\n",
    "Raise the stakes yet again, in backgammon - redouble\n",
    "First mammal to be cloned - sheep, dolly\n",
    "Outer: prefix - ecto/exo/epi"
   ]
  }
 ],
 "metadata": {
  "kernelspec": {
   "display_name": "Python 3 (ipykernel)",
   "language": "python",
   "name": "python3"
  },
  "language_info": {
   "codemirror_mode": {
    "name": "ipython",
    "version": 3
   },
   "file_extension": ".py",
   "mimetype": "text/x-python",
   "name": "python",
   "nbconvert_exporter": "python",
   "pygments_lexer": "ipython3",
   "version": "3.9.13"
  }
 },
 "nbformat": 4,
 "nbformat_minor": 5
}
